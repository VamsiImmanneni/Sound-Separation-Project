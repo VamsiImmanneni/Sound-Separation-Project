{
 "cells": [
  {
   "cell_type": "markdown",
   "id": "48fd5356",
   "metadata": {},
   "source": [
    "# Data Processing"
   ]
  },
  {
   "cell_type": "code",
   "execution_count": 2,
   "id": "d3a0bf19",
   "metadata": {},
   "outputs": [],
   "source": [
    "import numpy as np\n",
    "import matplotlib.pyplot as plt\n",
    "from scipy.io import wavfile as wav\n",
    "from scipy.fftpack import fft, fftfreq\n",
    "from pydub import AudioSegment\n",
    "import matplotlib\n",
    "from pydub.playback import play\n",
    "from collections import deque "
   ]
  },
  {
   "cell_type": "code",
   "execution_count": 3,
   "id": "05668a26",
   "metadata": {},
   "outputs": [],
   "source": [
    "class Analyzer:\n",
    "\n",
    "    def __init__(self, file_path,source='Sound_Files/'):\n",
    "        self.audio = AudioSegment.from_wav(source+file_path)\n",
    "        self.file_name = file_path\n",
    "        self.SAMPLE_RATE, self.data = wav.read(source+file_path)\n",
    "        self.DURATION = len(self.audio)/1000\n",
    "        self.xf, self.stft_out = None, None\n",
    "\n",
    "    def play_file(self):\n",
    "        return self.audio\n",
    "\n",
    "    def split_audio(self, k=1):\n",
    "\n",
    "        s = np.round(len(self.audio)/k)\n",
    "        return [self.audio[i*s:(i+1)*s] for i in range(k)]\n",
    "        # return np.split(self.audio,k)\n",
    "\n",
    "    def get_data(self):\n",
    "        return self.data\n",
    "\n",
    "    def fft(self):\n",
    "        clip_duration = 0.5\n",
    "        end_index = int(np.rint(self.data.shape[0] * (clip_duration / self.DURATION))) # 1st 500 ms of audio\n",
    "        clip_data = self.data[:end_index]\n",
    "\n",
    "        duration = clip_duration\n",
    "        # N = self.SAMPLE_RATE * self.DURATION\n",
    "        N = int(self.SAMPLE_RATE * duration)\n",
    "\n",
    "        self.xf = fftfreq(N, 1 / self.SAMPLE_RATE)\n",
    "        return self.xf,fft(clip_data)\n",
    "\n",
    "    def plot(self, l, r,save_path,k=1,lim=1,rows=1,my_top=0.9):\n",
    "        cols = int(k/rows)\n",
    "        fig, axs = plt.subplots(rows,cols,figsize=(20,3*rows))\n",
    "        cur_data, cur_out = self.stft(k)\n",
    "        fig.suptitle('File ' + self.file_name)\n",
    "        fig.subplots_adjust(top=my_top)\n",
    "        if lim > len(cur_out):\n",
    "            lim = len(cur_out)\n",
    "        cur_out = cur_out[:lim]\n",
    "        for i in range(lim):\n",
    "            x = int(i/cols)\n",
    "            y = i%cols\n",
    "            if k == 1:\n",
    "                cur_ax = axs\n",
    "            else:\n",
    "                if rows == 1:\n",
    "                    cur_ax = axs[y]\n",
    "                else:\n",
    "                    cur_ax = axs[x,y]\n",
    "            cur_ax.title.set_text('Split ' + str(i+1))\n",
    "            cur_ax.plot(cur_data,np.abs(cur_out[i]))\n",
    "\n",
    "            cur_ax.set_ylim(0,2e7)\n",
    "            cur_ax.set_xlim(l,r)\n",
    "        if k==1:\n",
    "            axs.set(xlabel='Frequencies', ylabel='Amplitudes')\n",
    "        else:\n",
    "            for ax in axs.flat:\n",
    "                ax.set(xlabel='Frequencies', ylabel='Amplitudes')\n",
    "\n",
    "            # Hide x labels and tick labels for top plots and y ticks for right plots.\n",
    "            for ax in axs.flat:\n",
    "                ax.label_outer()\n",
    "\n",
    "        fig.subplots_adjust(hspace=.2)\n",
    "        plt.savefig('STFT_Graphs/' + save_path)\n",
    "\n",
    "\n",
    "        plt.show()"
   ]
  },
  {
   "cell_type": "code",
   "execution_count": 235,
   "id": "db4a806e",
   "metadata": {},
   "outputs": [],
   "source": [
    "NUM_FREQS = 7\n",
    "\n",
    "def filter_signal(old_x,old_y):\n",
    "    # Filter frequencies 0-5000\n",
    "    l = -1\n",
    "    r = -1\n",
    "    for i in range(len(old_x)):\n",
    "        if old_x[i] >= 0 and l == -1:\n",
    "            l = i\n",
    "        if old_x[i] > 5000 and r == -1:\n",
    "            r = i\n",
    "    x = old_x[l:r]\n",
    "    y = old_y[l:r]\n",
    "    \n",
    "    # Find local maxima\n",
    "    local_maxima_x = []\n",
    "    local_maxima_y = []\n",
    "    HALFWAY_NOTE_DOWN_RATIO = 2 ** (1/24) # sqrt of the ratio of the freq of any note to one note lower\n",
    "    queue = deque([0]) \n",
    "    maxima_flags = [False] * x.shape[0]\n",
    "    cur_index = 1\n",
    "    while cur_index < x.shape[0]:\n",
    "        if y[cur_index] >= y[queue[0]]:\n",
    "            # clear queue only if new potential maxima found\n",
    "            queue.clear()\n",
    "            maxima_flags[cur_index] = True        \n",
    "        queue.append(cur_index)\n",
    "            \n",
    "        # if value in queue moves out of the range, check if maxima and then remove\n",
    "        if queue[0] <= cur_index / HALFWAY_NOTE_DOWN_RATIO:\n",
    "            if maxima_flags[queue[0]]:\n",
    "                local_maxima_x.append(x[queue[0]])\n",
    "                local_maxima_y.append(y[queue[0]])\n",
    "            queue.popleft()\n",
    "        cur_index += 1\n",
    "    \n",
    "    # pick out highest amplitude frequencies\n",
    "    stacked_data = np.stack((local_maxima_x,local_maxima_y))\n",
    "    sorted_stacked_data = stacked_data[:,np.flip(stacked_data[1,:].argsort())]\n",
    "    extracted_data = sorted_stacked_data[:,:NUM_FREQS]\n",
    "    data_resorted_by_freq = extracted_data[:,extracted_data[0,:].argsort()]\n",
    "    \n",
    "    return  data_resorted_by_freq[0], data_resorted_by_freq[1]"
   ]
  },
  {
   "cell_type": "code",
   "execution_count": 236,
   "id": "60d6b30d",
   "metadata": {},
   "outputs": [],
   "source": [
    "matplotlib.rcParams.update({'font.size': 12})"
   ]
  },
  {
   "cell_type": "code",
   "execution_count": 403,
   "id": "ebc65ecf",
   "metadata": {},
   "outputs": [
    {
     "data": {
      "image/png": "[encoded data removed]",
      "text/plain": [
       "<Figure size 640x480 with 1 Axes>"
      ]
     },
     "metadata": {},
     "output_type": "display_data"
    },
    {
     "name": "stdout",
     "output_type": "stream",
     "text": [
      "[ 292.  328.  586.  656.  986. 1172. 1316.]\n"
     ]
    },
    {
     "data": {
      "image/png": "[encoded data removed]",
      "text/plain": [
       "<Figure size 640x480 with 1 Axes>"
      ]
     },
     "metadata": {},
     "output_type": "display_data"
    }
   ],
   "source": [
    "data = []\n",
    "\n",
    "test = Analyzer('C_Fourth_Octave/D4E4.wav')\n",
    "#test = Analyzer('All_C_1/1_7.wav')\n",
    "\n",
    "x_fft, fft_arr = test.fft()\n",
    "plt.plot(x_fft,np.abs(fft_arr))\n",
    "plt.xlim(0,5000)\n",
    "plt.show()\n",
    "\n",
    "freqs, amplitudes = filter_signal(x_fft,np.abs(fft_arr))\n",
    "data.append(freqs)\n",
    "print(freqs)\n",
    "\n",
    "plt.scatter(freqs,amplitudes)\n",
    "plt.show()"
   ]
  },
  {
   "cell_type": "markdown",
   "id": "aece8cfe",
   "metadata": {},
   "source": [
    "# Model and Optimization"
   ]
  },
  {
   "cell_type": "code",
   "execution_count": 404,
   "id": "81bb8852",
   "metadata": {},
   "outputs": [],
   "source": [
    "from scipy.stats import norm"
   ]
  },
  {
   "cell_type": "code",
   "execution_count": 419,
   "id": "e97a6f04",
   "metadata": {},
   "outputs": [],
   "source": [
    "# constants\n",
    "N = len(data)\n",
    "LATENT_SPACE_MAX = 2 ** NUM_FREQS - 1\n",
    "num_iter = 100\n",
    "\n",
    "# parameter initializations\n",
    "#variance = 1000 ** 2 # large number so likelihoods aren't initially 0...\n",
    "#pi_params = np.full((N, LATENT_SPACE_MAX-1), 1/30)\n",
    "#fo_params = np.full((N,2),np.array([5000/3,5000/3*2])) # split the 0-5000 range\n",
    "\n",
    "variance = 50 ** 2 # large number so likelihoods aren't initially 0...\n",
    "pi_params = np.full((N, LATENT_SPACE_MAX-1), 1/30)\n",
    "fo_params = np.full((N,2),np.array([200,300])) # split the 0-5000 range"
   ]
  },
  {
   "cell_type": "code",
   "execution_count": 420,
   "id": "6d5d4c23",
   "metadata": {},
   "outputs": [],
   "source": [
    "# returns z as a string in binary notation\n",
    "def compute_v(z):\n",
    "    v = bin(z)[2:].zfill(NUM_FREQS)\n",
    "    return np.array([int(j) for j in list(v)])\n",
    "\n",
    "# returns array of counts of 1s seen in v by index i; count of 0s is then i - counts[i] for each i\n",
    "def compute_counts(v):\n",
    "    counts = []\n",
    "    cur_count = 0\n",
    "    for i in range(len(v)):\n",
    "        cur_count += int(v[i])\n",
    "        counts.append(cur_count)\n",
    "    return np.array(counts)\n",
    "\n",
    "# computes likelihoods for data point n over all z\n",
    "# returns array of likelihoods\n",
    "def compute_likelihoods(n):\n",
    "    likelihoods = []\n",
    "    for z in range(1,LATENT_SPACE_MAX):\n",
    "        v = compute_v(z)\n",
    "        counts = compute_counts(v)\n",
    "        \n",
    "        prod = 1\n",
    "        for i in range(NUM_FREQS):\n",
    "            count = counts[i] * v[i] + (i - counts[i]) * (1 - v[i]) # counts[i] if v[i] == 1; (i - counts[i]) if v[i] == 0\n",
    "            prod *= norm.pdf(data[n][i],loc=fo_params[n,v[i]] * count,scale=np.sqrt(variance))\n",
    "        likelihoods.append(prod)\n",
    "    return np.array(likelihoods)\n",
    "        \n",
    "\n",
    "# computes component responsibilities for data point n over all z\n",
    "# returns array of r values\n",
    "def compute_r(n):\n",
    "    likelihoods = compute_likelihoods(n)\n",
    "    return np.array([likelihoods[z-1] * pi_params[n,z-1] / likelihoods.dot(pi_params[n]) for z in range(1,LATENT_SPACE_MAX)])\n",
    "\n",
    "# computes Fo updates for data point n\n",
    "# returns array of shape (2,)\n",
    "def compute_Fo_updates(n,r_values):\n",
    "    updated_Fo = []\n",
    "    for j in range(2):\n",
    "        total_sum_num = 0\n",
    "        total_sum_denom = 0\n",
    "        for z in range(1,LATENT_SPACE_MAX):\n",
    "            v = compute_v(z)\n",
    "            counts = compute_counts(v)\n",
    "            \n",
    "            i_selector = v * j + (1 - v) * (1 - j) # v when j == 1; (1 - v) when j == 0\n",
    "            selected_counts = counts * j + (np.arange(1,NUM_FREQS+1) - counts) * (1 - j)\n",
    "            sum_fs = np.dot(i_selector,data[n])\n",
    "            sum_Cs = np.dot(i_selector, selected_counts)\n",
    "            \n",
    "            total_sum_num += r_values[n,z-1] * sum_fs\n",
    "            total_sum_denom += r_values[n,z-1] * sum_Cs\n",
    "        #\n",
    "        updated_Fo.append(total_sum_num / total_sum_denom)\n",
    "    #\n",
    "    return np.array(updated_Fo)\n",
    "            \n",
    "def compute_variance_update(r_values):\n",
    "    total_sum_num = 0\n",
    "    total_sum_denom = 0\n",
    "    for n in range(N):\n",
    "        for z in range(1,LATENT_SPACE_MAX):\n",
    "            v = compute_v(z)\n",
    "            counts = compute_counts(v)\n",
    "            \n",
    "            sum_num = 0\n",
    "            for i in range(NUM_FREQS):\n",
    "                count = counts[i] * v[i] + (i - counts[i]) * (1 - v[i]) # counts[i] if v[i] == 1; (i - counts[i]) if v[i] == 0\n",
    "                sum_num += (data[n][i] - fo_params[n,v[i]] * count) ** 2\n",
    "            \n",
    "            total_sum_num += r_values[n,z-1] * sum_num\n",
    "            total_sum_denom += r_values[n,z-1] * NUM_FREQS\n",
    "        #\n",
    "    #\n",
    "    return total_sum_num / total_sum_denom"
   ]
  },
  {
   "cell_type": "code",
   "execution_count": 421,
   "id": "40351f66",
   "metadata": {},
   "outputs": [],
   "source": [
    "# Expectation Maximization\n",
    "for _ in range(num_iter):\n",
    "    # E-Step\n",
    "    r_values = np.array([compute_r(n) for n in range(N)])\n",
    "    \n",
    "    # M-Step: update component importance params\n",
    "    pi_params = r_values\n",
    "    \n",
    "    # update Fo params\n",
    "    fo_params = np.array([compute_Fo_updates(n,r_values) for n in range(N)])\n",
    "    \n",
    "    # update variance\n",
    "    variance = compute_variance_update(r_values)"
   ]
  },
  {
   "cell_type": "code",
   "execution_count": 422,
   "id": "9471e1f2",
   "metadata": {},
   "outputs": [
    {
     "name": "stdout",
     "output_type": "stream",
     "text": [
      "[[206.66666667 314.4       ]]\n",
      "35598.19682539683\n"
     ]
    }
   ],
   "source": [
    "print(fo_params)\n",
    "print(variance)"
   ]
  },
  {
   "cell_type": "code",
   "execution_count": 426,
   "id": "f9e4af4a",
   "metadata": {},
   "outputs": [
    {
     "name": "stdout",
     "output_type": "stream",
     "text": [
      "1.0\n",
      "30\n"
     ]
    }
   ],
   "source": [
    "print(pi_params[0,pi_params[0].argmax()])\n",
    "print(pi_params[0].argmax())"
   ]
  },
  {
   "cell_type": "code",
   "execution_count": null,
   "id": "8fb4ab16",
   "metadata": {},
   "outputs": [],
   "source": []
  },
  {
   "cell_type": "code",
   "execution_count": null,
   "id": "f0d1f384",
   "metadata": {},
   "outputs": [],
   "source": []
  },
  {
   "cell_type": "code",
   "execution_count": null,
   "id": "e967fb60",
   "metadata": {},
   "outputs": [],
   "source": []
  },
  {
   "cell_type": "code",
   "execution_count": null,
   "id": "3abdca86",
   "metadata": {},
   "outputs": [],
   "source": []
  },
  {
   "cell_type": "code",
   "execution_count": null,
   "id": "8b763dec",
   "metadata": {},
   "outputs": [],
   "source": []
  },
  {
   "cell_type": "code",
   "execution_count": null,
   "id": "c552d49f",
   "metadata": {},
   "outputs": [],
   "source": []
  },
  {
   "cell_type": "code",
   "execution_count": null,
   "id": "00d11a7b",
   "metadata": {},
   "outputs": [],
   "source": []
  },
  {
   "cell_type": "code",
   "execution_count": null,
   "id": "52d8832e",
   "metadata": {},
   "outputs": [],
   "source": []
  },
  {
   "cell_type": "code",
   "execution_count": null,
   "id": "b78acae0",
   "metadata": {},
   "outputs": [],
   "source": []
  },
  {
   "cell_type": "code",
   "execution_count": null,
   "id": "4c6b3774",
   "metadata": {},
   "outputs": [],
   "source": []
  }
 ],
 "metadata": {
  "kernelspec": {
   "display_name": "Python [conda env:audio_processing]",
   "language": "python",
   "name": "conda-env-audio_processing-py"
  },
  "language_info": {
   "codemirror_mode": {
    "name": "ipython",
    "version": 3
   },
   "file_extension": ".py",
   "mimetype": "text/x-python",
   "name": "python",
   "nbconvert_exporter": "python",
   "pygments_lexer": "ipython3",
   "version": "3.8.15"
  }
 },
 "nbformat": 4,
 "nbformat_minor": 5
}
