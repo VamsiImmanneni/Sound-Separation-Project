{
 "cells": [
  {
   "cell_type": "markdown",
   "id": "f664f0a0",
   "metadata": {},
   "source": [
    "# Data Processing"
   ]
  },
  {
   "cell_type": "code",
   "execution_count": 1,
   "id": "d3a0bf19",
   "metadata": {},
   "outputs": [],
   "source": [
    "import numpy as np\n",
    "import matplotlib.pyplot as plt\n",
    "from scipy.io import wavfile as wav\n",
    "from scipy.fftpack import fft, fftfreq\n",
    "from pydub import AudioSegment\n",
    "import matplotlib\n",
    "from pydub.playback import play\n",
    "from collections import deque "
   ]
  },
  {
   "cell_type": "code",
   "execution_count": 2,
   "id": "05668a26",
   "metadata": {},
   "outputs": [],
   "source": [
    "class Analyzer:\n",
    "\n",
    "    def __init__(self, file_path,source='Sound_Files/'):\n",
    "        self.audio = AudioSegment.from_wav(source+file_path)\n",
    "        self.file_name = file_path\n",
    "        self.SAMPLE_RATE, self.data = wav.read(source+file_path)\n",
    "        self.DURATION = len(self.audio)/1000\n",
    "        self.xf, self.stft_out = None, None\n",
    "\n",
    "    def play_file(self):\n",
    "        return self.audio\n",
    "\n",
    "    def split_audio(self, k=1):\n",
    "\n",
    "        s = np.round(len(self.audio)/k)\n",
    "        return [self.audio[i*s:(i+1)*s] for i in range(k)]\n",
    "        # return np.split(self.audio,k)\n",
    "\n",
    "    def get_data(self):\n",
    "        return self.data\n",
    "\n",
    "    def fft(self):\n",
    "        clip_duration = 0.5\n",
    "        end_index = int(np.rint(self.data.shape[0] * (clip_duration / self.DURATION))) # 1st 500 ms of audio\n",
    "        clip_data = self.data[:end_index]\n",
    "\n",
    "        duration = clip_duration\n",
    "        # N = self.SAMPLE_RATE * self.DURATION\n",
    "        N = int(self.SAMPLE_RATE * duration)\n",
    "\n",
    "        self.xf = fftfreq(N, 1 / self.SAMPLE_RATE)\n",
    "        return self.xf,fft(clip_data)\n",
    "\n",
    "    def plot(self, l, r,save_path,k=1,lim=1,rows=1,my_top=0.9):\n",
    "        cols = int(k/rows)\n",
    "        fig, axs = plt.subplots(rows,cols,figsize=(20,3*rows))\n",
    "        cur_data, cur_out = self.stft(k)\n",
    "        fig.suptitle('File ' + self.file_name)\n",
    "        fig.subplots_adjust(top=my_top)\n",
    "        if lim > len(cur_out):\n",
    "            lim = len(cur_out)\n",
    "        cur_out = cur_out[:lim]\n",
    "        for i in range(lim):\n",
    "            x = int(i/cols)\n",
    "            y = i%cols\n",
    "            if k == 1:\n",
    "                cur_ax = axs\n",
    "            else:\n",
    "                if rows == 1:\n",
    "                    cur_ax = axs[y]\n",
    "                else:\n",
    "                    cur_ax = axs[x,y]\n",
    "            cur_ax.title.set_text('Split ' + str(i+1))\n",
    "            cur_ax.plot(cur_data,np.abs(cur_out[i]))\n",
    "\n",
    "            cur_ax.set_ylim(0,2e7)\n",
    "            cur_ax.set_xlim(l,r)\n",
    "        if k==1:\n",
    "            axs.set(xlabel='Frequencies', ylabel='Amplitudes')\n",
    "        else:\n",
    "            for ax in axs.flat:\n",
    "                ax.set(xlabel='Frequencies', ylabel='Amplitudes')\n",
    "\n",
    "            # Hide x labels and tick labels for top plots and y ticks for right plots.\n",
    "            for ax in axs.flat:\n",
    "                ax.label_outer()\n",
    "\n",
    "        fig.subplots_adjust(hspace=.2)\n",
    "        plt.savefig('STFT_Graphs/' + save_path)\n",
    "\n",
    "\n",
    "        plt.show()"
   ]
  },
  {
   "cell_type": "code",
   "execution_count": 3,
   "id": "db4a806e",
   "metadata": {},
   "outputs": [],
   "source": [
    "NUM_FREQS = 6\n",
    "\n",
    "def filter_signal(old_x,old_y):\n",
    "    # Filter frequencies 0-5000\n",
    "    l = -1\n",
    "    r = -1\n",
    "    for i in range(len(old_x)):\n",
    "        if old_x[i] >= 0 and l == -1:\n",
    "            l = i\n",
    "        if old_x[i] > 5000 and r == -1:\n",
    "            r = i\n",
    "    x = old_x[l:r]\n",
    "    y = old_y[l:r]\n",
    "    \n",
    "    # Find local maxima\n",
    "    local_maxima_x = []\n",
    "    local_maxima_y = []\n",
    "    HALFWAY_NOTE_DOWN_RATIO = 2 ** (1/24) # sqrt of the ratio of the freq of any note to one note lower\n",
    "    queue = deque([0]) \n",
    "    maxima_flags = [False] * x.shape[0]\n",
    "    cur_index = 1\n",
    "    while cur_index < x.shape[0]:\n",
    "        if y[cur_index] >= y[queue[0]]:\n",
    "            # clear queue only if new potential maxima found\n",
    "            queue.clear()\n",
    "            maxima_flags[cur_index] = True        \n",
    "        queue.append(cur_index)\n",
    "            \n",
    "        # if value in queue moves out of the range, check if maxima and then remove\n",
    "        if queue[0] <= cur_index / HALFWAY_NOTE_DOWN_RATIO:\n",
    "            if maxima_flags[queue[0]]:\n",
    "                local_maxima_x.append(x[queue[0]])\n",
    "                local_maxima_y.append(y[queue[0]])\n",
    "            queue.popleft()\n",
    "        cur_index += 1\n",
    "    \n",
    "    # pick out highest amplitude frequencies\n",
    "    stacked_data = np.stack((local_maxima_x,local_maxima_y))\n",
    "    sorted_stacked_data = stacked_data[:,np.flip(stacked_data[1,:].argsort())]\n",
    "    extracted_data = sorted_stacked_data[:,:NUM_FREQS]\n",
    "    data_resorted_by_freq = extracted_data[:,extracted_data[0,:].argsort()]\n",
    "    \n",
    "    return  data_resorted_by_freq[0], data_resorted_by_freq[1]"
   ]
  },
  {
   "cell_type": "code",
   "execution_count": 4,
   "id": "60d6b30d",
   "metadata": {},
   "outputs": [],
   "source": [
    "matplotlib.rcParams.update({'font.size': 12})"
   ]
  },
  {
   "cell_type": "code",
   "execution_count": 5,
   "id": "ebc65ecf",
   "metadata": {},
   "outputs": [
    {
     "name": "stdout",
     "output_type": "stream",
     "text": [
      "['Sound_Files/C_Fourth_Octave\\\\A3C4.wav', 'Sound_Files/C_Fourth_Octave\\\\B3C4.wav', 'Sound_Files/C_Fourth_Octave\\\\C4D4.wav', 'Sound_Files/C_Fourth_Octave\\\\D4A4.wav', 'Sound_Files/C_Fourth_Octave\\\\D4E4.wav', 'Sound_Files/C_Fourth_Octave\\\\D4F4.wav', 'Sound_Files/C_Fourth_Octave\\\\G4.wav']\n",
      "[ 218.  260.  520.  656.  782. 1044.]\n",
      "[246. 260. 492. 520. 738. 782.]\n",
      "[ 260.  292.  520.  586.  782. 1838.]\n",
      "[ 292.  438.  586.  876. 1172. 1320.]\n",
      "[ 292.  328.  586.  656.  986. 1316.]\n",
      "[ 292.  348.  586.  696.  878. 1046.]\n",
      "[  82.  120.  390.  544.  784. 1174.]\n"
     ]
    }
   ],
   "source": [
    "import glob\n",
    "print(glob.glob(\"Sound_Files/C_Fourth_Octave/*\"))\n",
    "\n",
    "data = []\n",
    "\n",
    "for sound_file in glob.glob(\"Sound_Files/C_Fourth_Octave/*\"):\n",
    "    filename = sound_file[12:]\n",
    "    test = Analyzer(filename)\n",
    "    #test = Analyzer('All_C_1/1_7.wav')\n",
    "\n",
    "    x_fft, fft_arr = test.fft()\n",
    "    #plt.plot(x_fft,np.abs(fft_arr))\n",
    "    #plt.xlim(0,5000)\n",
    "    #plt.show()\n",
    "\n",
    "    freqs, amplitudes = filter_signal(x_fft,np.abs(fft_arr))\n",
    "    data.append(freqs)\n",
    "    print(freqs)\n",
    "\n",
    "    #plt.scatter(freqs,amplitudes)\n",
    "    #plt.show()"
   ]
  },
  {
   "cell_type": "markdown",
   "id": "f1f56d89",
   "metadata": {},
   "source": [
    "# Model and Optimization"
   ]
  },
  {
   "cell_type": "code",
   "execution_count": 12,
   "id": "c4b024e4",
   "metadata": {},
   "outputs": [],
   "source": [
    "from scipy.special import logsumexp"
   ]
  },
  {
   "cell_type": "code",
   "execution_count": 13,
   "id": "e97a6f04",
   "metadata": {},
   "outputs": [],
   "source": [
    "# constants\n",
    "N = len(data)\n",
    "LATENT_SPACE_MAX = 2 ** NUM_FREQS - 1\n",
    "num_iter = 50\n",
    "\n",
    "# parameter initializations\n",
    "variance = 2\n",
    "pi_params = np.full((N, LATENT_SPACE_MAX-1), 1/30)\n",
    "fo_params = np.full((N,2),np.array([260,290])) # split the 0-5000 range"
   ]
  },
  {
   "cell_type": "code",
   "execution_count": 14,
   "id": "6d5d4c23",
   "metadata": {},
   "outputs": [],
   "source": [
    "# returns z as a string in binary notation\n",
    "def compute_v(z):\n",
    "    v = bin(z)[2:].zfill(NUM_FREQS)\n",
    "    return np.array([int(j) for j in list(v)])\n",
    "\n",
    "# returns array of counts of 1s seen in v by index i; count of 0s is then i - counts[i] for each i\n",
    "def compute_counts(v):\n",
    "    counts = []\n",
    "    cur_count = 0\n",
    "    for i in range(len(v)):\n",
    "        cur_count += int(v[i])\n",
    "        counts.append(cur_count)\n",
    "    return np.array(counts)\n",
    "\n",
    "# returns sum(f_{ni} - Fo_{nj} * C_{nji}) over all i for given n,v\n",
    "def compute_sum_normal_exp_over_i(n,v):\n",
    "    counts = compute_counts(v)\n",
    "    sum = 0\n",
    "    for i in range(NUM_FREQS):\n",
    "        count = counts[i] * v[i] + (i - counts[i]) * (1 - v[i]) # counts[i] if v[i] == 1; (i - counts[i]) if v[i] == 0\n",
    "        sum += (data[n][i] - fo_params[n,v[i]] * count) ** 2\n",
    "    return sum\n",
    "    \n",
    "\n",
    "# computes likelihoods exponents for data point n over all z\n",
    "# returns array of exponents\n",
    "def compute_likelihood_exponents(n):\n",
    "    exponents = []\n",
    "    for z in range(1,LATENT_SPACE_MAX):\n",
    "        v = compute_v(z)\n",
    "        sum = -1/(2*variance) * compute_sum_normal_exp_over_i(n,v)\n",
    "        exponents.append(sum)\n",
    "    return np.array(exponents)\n",
    "        \n",
    "\n",
    "# computes component responsibilities for data point n over all z\n",
    "# returns array of r values\n",
    "def compute_r(n):\n",
    "    exponents = compute_likelihood_exponents(n)\n",
    "    r_n = []\n",
    "    for z in range(1,LATENT_SPACE_MAX):\n",
    "        log_numerator = logsumexp([exponents[z-1]],b=[pi_params[n,z-1]])\n",
    "        log_denom = logsumexp(exponents,b=pi_params[n])\n",
    "        r_n.append(np.exp(log_numerator - log_denom))\n",
    "    #\n",
    "    return np.array(r_n)\n",
    "\n",
    "# computes Fo updates for data point n\n",
    "# returns array of shape (2,)\n",
    "def compute_Fo_updates(n,r_values):\n",
    "    updated_Fo = []\n",
    "    for j in range(2):\n",
    "        total_sum_num = 0\n",
    "        total_sum_denom = 0\n",
    "        for z in range(1,LATENT_SPACE_MAX):\n",
    "            v = compute_v(z)\n",
    "            counts = compute_counts(v)\n",
    "            \n",
    "            i_selector = v * j + (1 - v) * (1 - j) # v when j == 1; (1 - v) when j == 0\n",
    "            selected_counts = counts * j + (np.arange(1,NUM_FREQS+1) - counts) * (1 - j)\n",
    "            sum_fs = np.dot(i_selector,data[n])\n",
    "            sum_Cs = np.dot(i_selector, selected_counts)\n",
    "            \n",
    "            total_sum_num += r_values[n,z-1] * sum_fs\n",
    "            total_sum_denom += r_values[n,z-1] * sum_Cs\n",
    "        #\n",
    "        updated_Fo.append(total_sum_num / total_sum_denom)\n",
    "    #\n",
    "    return np.array(updated_Fo)\n",
    "            \n",
    "def compute_variance_update(r_values):\n",
    "    total_sum_num = 0\n",
    "    total_sum_denom = 0\n",
    "    for n in range(N):\n",
    "        for z in range(1,LATENT_SPACE_MAX):\n",
    "            v = compute_v(z)\n",
    "            sum_num = compute_sum_normal_exp_over_i(n,v)\n",
    "            \n",
    "            total_sum_num += r_values[n,z-1] * sum_num\n",
    "            total_sum_denom += r_values[n,z-1] * NUM_FREQS\n",
    "        #\n",
    "    #\n",
    "    return total_sum_num / total_sum_denom"
   ]
  },
  {
   "cell_type": "code",
   "execution_count": 15,
   "id": "40351f66",
   "metadata": {},
   "outputs": [],
   "source": [
    "# Expectation Maximization\n",
    "for _ in range(num_iter):\n",
    "    # E-Step\n",
    "    r_values = np.array([compute_r(n) for n in range(N)])\n",
    "    \n",
    "    # M-Step: update component importance params\n",
    "    pi_params = r_values\n",
    "    \n",
    "    # update Fo params\n",
    "    fo_params = np.array([compute_Fo_updates(n,r_values) for n in range(N)])\n",
    "    \n",
    "    # update variance\n",
    "    variance = compute_variance_update(r_values)"
   ]
  },
  {
   "cell_type": "code",
   "execution_count": 16,
   "id": "9471e1f2",
   "metadata": {},
   "outputs": [
    {
     "name": "stdout",
     "output_type": "stream",
     "text": [
      "31868.392169312163\n",
      "[[197.33333333 520.        ]\n",
      " [180.8        410.        ]\n",
      " [260.         267.86666667]\n",
      " [292.         292.8       ]\n",
      " [292.         258.13333333]\n",
      " [213.33333333 320.6       ]\n",
      " [ 67.33333333 289.2       ]]\n"
     ]
    }
   ],
   "source": [
    "print(variance)\n",
    "print(fo_params)"
   ]
  },
  {
   "cell_type": "code",
   "execution_count": 17,
   "id": "606d8cd6",
   "metadata": {},
   "outputs": [
    {
     "name": "stdout",
     "output_type": "stream",
     "text": [
      "1.0\n",
      "[0 0 0 1 1 1]\n"
     ]
    }
   ],
   "source": [
    "print(pi_params)"
   ]
  },
  {
   "cell_type": "code",
   "execution_count": null,
   "id": "25d23855",
   "metadata": {},
   "outputs": [],
   "source": [
    "print(pi_params[0,pi_params[0].argmax()])\n",
    "print(compute_v(pi_params[0].argmax()))"
   ]
  },
  {
   "cell_type": "code",
   "execution_count": null,
   "id": "9158bbfe",
   "metadata": {},
   "outputs": [],
   "source": []
  },
  {
   "cell_type": "code",
   "execution_count": null,
   "id": "0ef02f86",
   "metadata": {},
   "outputs": [],
   "source": []
  },
  {
   "cell_type": "code",
   "execution_count": null,
   "id": "7e2bcd4a",
   "metadata": {},
   "outputs": [],
   "source": []
  },
  {
   "cell_type": "code",
   "execution_count": null,
   "id": "ac9b250f",
   "metadata": {},
   "outputs": [],
   "source": []
  },
  {
   "cell_type": "code",
   "execution_count": null,
   "id": "6d34940a",
   "metadata": {},
   "outputs": [],
   "source": []
  },
  {
   "cell_type": "code",
   "execution_count": null,
   "id": "67ad1317",
   "metadata": {},
   "outputs": [],
   "source": []
  },
  {
   "cell_type": "code",
   "execution_count": null,
   "id": "74305bfe",
   "metadata": {},
   "outputs": [],
   "source": []
  },
  {
   "cell_type": "code",
   "execution_count": null,
   "id": "259cdf7f",
   "metadata": {},
   "outputs": [],
   "source": []
  },
  {
   "cell_type": "code",
   "execution_count": null,
   "id": "8f363f8f",
   "metadata": {},
   "outputs": [],
   "source": []
  }
 ],
 "metadata": {
  "kernelspec": {
   "display_name": "Python [conda env:audio_processing]",
   "language": "python",
   "name": "conda-env-audio_processing-py"
  },
  "language_info": {
   "codemirror_mode": {
    "name": "ipython",
    "version": 3
   },
   "file_extension": ".py",
   "mimetype": "text/x-python",
   "name": "python",
   "nbconvert_exporter": "python",
   "pygments_lexer": "ipython3",
   "version": "3.8.15"
  }
 },
 "nbformat": 4,
 "nbformat_minor": 5
}
