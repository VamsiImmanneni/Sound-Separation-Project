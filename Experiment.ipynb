{
 "cells": [
  {
   "cell_type": "code",
   "execution_count": 3,
   "metadata": {
    "collapsed": true
   },
   "outputs": [],
   "source": [
    "import numpy as np\n",
    "import matplotlib.pyplot as plt\n",
    "from scipy.io import wavfile as wav\n",
    "from scipy.fftpack import fft, fftfreq\n",
    "from pydub import AudioSegment\n",
    "import matplotlib\n",
    "from pydub.playback import play"
   ]
  },
  {
   "cell_type": "code",
   "execution_count": 4,
   "outputs": [],
   "source": [
    "audio = AudioSegment.from_wav('Sound_Files/All_C_1/1_7.wav')"
   ],
   "metadata": {
    "collapsed": false
   }
  },
  {
   "cell_type": "code",
   "execution_count": 5,
   "outputs": [],
   "source": [
    "class Analyzer:\n",
    "\n",
    "    def __init__(self, file_path,source='Sound_Files/All_C_1/'):\n",
    "        self.audio = AudioSegment.from_wav(source+file_path)\n",
    "        self.file_name = file_path\n",
    "        self.SAMPLE_RATE, self.data = wav.read(source+file_path)\n",
    "        self.DURATION = len(self.audio)/1000\n",
    "        self.xf, self.stft_out = None, None\n",
    "\n",
    "    def play_file(self):\n",
    "        return self.audio\n",
    "\n",
    "    def split_audio(self, k=1):\n",
    "        s = np.round(len(self.audio)/k)\n",
    "        return [self.audio[i*s:(i+1)*s] for i in range(k)]\n",
    "        # return np.split(self.audio,k)\n",
    "\n",
    "    def get_data(self):\n",
    "        return self.data\n",
    "\n",
    "    def split_data(self, k=1):\n",
    "        return np.split(self.data,k)\n",
    "\n",
    "    def stft(self, k=1):\n",
    "        arr = self.split_data(k)\n",
    "\n",
    "        duration = self.DURATION / k\n",
    "        # N = self.SAMPLE_RATE * self.DURATION\n",
    "        N = int(self.SAMPLE_RATE * duration)\n",
    "\n",
    "        self.xf = fftfreq(N, 1 / self.SAMPLE_RATE)\n",
    "        return self.xf,np.array([fft(arr[i]) for i in range(k)])\n",
    "\n",
    "    def plot(self, l, r,save_path,k=1,lim=1,rows=1,my_top=0.9):\n",
    "        cols = int(k/rows)\n",
    "        fig, axs = plt.subplots(rows,cols,figsize=(20,3*rows))\n",
    "        cur_data, cur_out = self.stft(k)\n",
    "        fig.suptitle('File ' + self.file_name)\n",
    "        fig.subplots_adjust(top=my_top)\n",
    "        if lim > len(cur_out):\n",
    "            lim = len(cur_out)\n",
    "        cur_out = cur_out[:lim]\n",
    "        for i in range(lim):\n",
    "            x = int(i/cols)\n",
    "            y = i%cols\n",
    "            if k == 1:\n",
    "                cur_ax = axs\n",
    "            else:\n",
    "                if rows == 1:\n",
    "                    cur_ax = axs[y]\n",
    "                else:\n",
    "                    cur_ax = axs[x,y]\n",
    "            cur_ax.title.set_text('Split ' + str(i+1))\n",
    "            cur_ax.plot(cur_data,np.abs(cur_out[i]))\n",
    "\n",
    "            cur_ax.set_ylim(0,2e7)\n",
    "            cur_ax.set_xlim(l,r)\n",
    "        if k==1:\n",
    "            axs.set(xlabel='Frequencies', ylabel='Amplitudes')\n",
    "        else:\n",
    "            for ax in axs.flat:\n",
    "                ax.set(xlabel='Frequencies', ylabel='Amplitudes')\n",
    "\n",
    "            # Hide x labels and tick labels for top plots and y ticks for right plots.\n",
    "            for ax in axs.flat:\n",
    "                ax.label_outer()\n",
    "\n",
    "        fig.subplots_adjust(hspace=.2)\n",
    "        plt.savefig('STFT_Graphs/' + save_path)\n",
    "\n",
    "\n",
    "        plt.show()"
   ],
   "metadata": {
    "collapsed": false
   }
  },
  {
   "cell_type": "code",
   "execution_count": 6,
   "outputs": [],
   "source": [
    "test = Analyzer('1_7.wav')\n",
    "# Gets an stft of 10 splits\n",
    "x, stft_arr = test.stft(10)"
   ],
   "metadata": {
    "collapsed": false
   }
  },
  {
   "cell_type": "code",
   "execution_count": null,
   "outputs": [],
   "source": [],
   "metadata": {
    "collapsed": false
   }
  }
 ],
 "metadata": {
  "kernelspec": {
   "display_name": "Python 3",
   "language": "python",
   "name": "python3"
  },
  "language_info": {
   "codemirror_mode": {
    "name": "ipython",
    "version": 2
   },
   "file_extension": ".py",
   "mimetype": "text/x-python",
   "name": "python",
   "nbconvert_exporter": "python",
   "pygments_lexer": "ipython2",
   "version": "2.7.6"
  }
 },
 "nbformat": 4,
 "nbformat_minor": 0
}
